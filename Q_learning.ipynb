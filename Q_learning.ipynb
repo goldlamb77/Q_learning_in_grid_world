{
  "nbformat": 4,
  "nbformat_minor": 0,
  "metadata": {
    "colab": {
      "provenance": []
    },
    "kernelspec": {
      "name": "python3",
      "display_name": "Python 3"
    },
    "language_info": {
      "name": "python"
    }
  },
  "cells": [
    {
      "cell_type": "code",
      "execution_count": 1,
      "metadata": {
        "id": "1MLfCEgbBYFf"
      },
      "outputs": [],
      "source": [
        "import numpy as np\n",
        "import matplotlib.pyplot as plt\n",
        "import random\n",
        "import pandas as pd"
      ]
    },
    {
      "cell_type": "markdown",
      "source": [
        "necessary imports"
      ],
      "metadata": {
        "id": "nzsXBXuwdkIw"
      }
    },
    {
      "cell_type": "code",
      "source": [
        "\n",
        "x = np.array([0,1,2,3,4])\n",
        "y  = np.array([0,1,2,3,4])\n",
        "x,y = np.meshgrid(x,y)\n"
      ],
      "metadata": {
        "id": "hzWpZ-PrbweF"
      },
      "execution_count": 2,
      "outputs": []
    },
    {
      "cell_type": "markdown",
      "source": [
        "creates a meshgrid to establish the environment for training"
      ],
      "metadata": {
        "id": "yEtkMMhFdmHq"
      }
    },
    {
      "cell_type": "code",
      "source": [
        "plt.plot(x,y)"
      ],
      "metadata": {
        "colab": {
          "base_uri": "https://localhost:8080/",
          "height": 517
        },
        "id": "Ag4YidCNmrF1",
        "outputId": "a143505c-8c88-4f30-de1a-85db86a7b154"
      },
      "execution_count": 3,
      "outputs": [
        {
          "output_type": "execute_result",
          "data": {
            "text/plain": [
              "[<matplotlib.lines.Line2D at 0x7bd418366710>,\n",
              " <matplotlib.lines.Line2D at 0x7bd418396950>,\n",
              " <matplotlib.lines.Line2D at 0x7bd4326cad50>,\n",
              " <matplotlib.lines.Line2D at 0x7bd41838b9d0>,\n",
              " <matplotlib.lines.Line2D at 0x7bd4183973d0>]"
            ]
          },
          "metadata": {},
          "execution_count": 3
        },
        {
          "output_type": "display_data",
          "data": {
            "text/plain": [
              "<Figure size 640x480 with 1 Axes>"
            ],
            "image/png": "[encoded data removed]"
          },
          "metadata": {}
        }
      ]
    },
    {
      "cell_type": "markdown",
      "source": [
        "prints out the grid"
      ],
      "metadata": {
        "id": "bsPu0IqDdqmc"
      }
    },
    {
      "cell_type": "code",
      "source": [
        "actions = ['up','down','left','right']\n"
      ],
      "metadata": {
        "id": "2k92Bf4rqNSW"
      },
      "execution_count": 4,
      "outputs": []
    },
    {
      "cell_type": "markdown",
      "source": [
        "makes a array of actions that the agent can do"
      ],
      "metadata": {
        "id": "dFUMv9_9dsOP"
      }
    },
    {
      "cell_type": "code",
      "source": [
        "x.fill(0)\n",
        "y.fill(0)"
      ],
      "metadata": {
        "id": "GIYIXpTnrCOG"
      },
      "execution_count": 5,
      "outputs": []
    },
    {
      "cell_type": "markdown",
      "source": [
        "fills the grid with 0"
      ],
      "metadata": {
        "id": "0vaBMSM3d0JU"
      }
    },
    {
      "cell_type": "code",
      "source": [
        "x[-1, -1] = 1\n",
        "y[-1, -1] = 1"
      ],
      "metadata": {
        "id": "JrzwvKQTrvtn"
      },
      "execution_count": 6,
      "outputs": []
    },
    {
      "cell_type": "markdown",
      "source": [
        "makes the bottom right corner equal to 1 as 1 symbolizes the terminal"
      ],
      "metadata": {
        "id": "DbUcLykId2Yx"
      }
    },
    {
      "cell_type": "code",
      "source": [
        "terminal = 1"
      ],
      "metadata": {
        "id": "rHVbEwfQVV4F"
      },
      "execution_count": 7,
      "outputs": []
    },
    {
      "cell_type": "markdown",
      "source": [
        "creates a variable to set the terminal value to 1"
      ],
      "metadata": {
        "id": "K2WwDA4td-tW"
      }
    },
    {
      "cell_type": "code",
      "source": [
        "Q = np.zeros((5, 5, 4))  # shape: (rows, cols, actions)"
      ],
      "metadata": {
        "id": "4HbrsXw_WudA"
      },
      "execution_count": 8,
      "outputs": []
    },
    {
      "cell_type": "markdown",
      "source": [
        "creates a 3d Q table"
      ],
      "metadata": {
        "id": "C9z49kY9eFCK"
      }
    },
    {
      "cell_type": "code",
      "source": [
        "actions = ['up', 'down', 'left', 'right']"
      ],
      "metadata": {
        "id": "lAsobPHxrZgI"
      },
      "execution_count": 9,
      "outputs": []
    },
    {
      "cell_type": "code",
      "source": [
        "def move_agent(choice, x, y):\n",
        "    if choice == 'up' and y < 4:\n",
        "        y += 1\n",
        "    elif choice == 'down' and y > 0:\n",
        "        y -= 1\n",
        "    elif choice == 'left' and x > 0:\n",
        "        x -= 1\n",
        "    elif choice == 'right' and x < 4:\n",
        "        x += 1\n",
        "    return (x, y)"
      ],
      "metadata": {
        "id": "pQWBJ9Jwreph"
      },
      "execution_count": 10,
      "outputs": []
    },
    {
      "cell_type": "markdown",
      "source": [
        "creates a function that will move the agent and makes sure it doesnt go out of bounds"
      ],
      "metadata": {
        "id": "d0w7ChmEeLf-"
      }
    },
    {
      "cell_type": "code",
      "source": [
        "alpha = 0.6\n",
        "gamma = 0.7\n",
        "epsilon = 0.5\n",
        "episodes = 1000"
      ],
      "metadata": {
        "id": "EtOeAhtBYh_X"
      },
      "execution_count": 11,
      "outputs": []
    },
    {
      "cell_type": "markdown",
      "source": [
        "creates variables for alpha, gamma, episolon and episodes"
      ],
      "metadata": {
        "id": "G-ceiU4JeQ2V"
      }
    },
    {
      "cell_type": "code",
      "source": [
        "initial_x = 0\n",
        "initial_y = 0\n",
        "goal_state = (4, 4)\n",
        "\n",
        "for episode in range(episodes):\n",
        "    x, y = initial_x, initial_y\n",
        "    while (x, y) != goal_state:\n",
        "        # Choose action using epsilon-greedy\n",
        "        if random.uniform(0, 1) < epsilon:\n",
        "            action_index = random.randint(0, 3)\n",
        "        else:\n",
        "            action_index = np.argmax(Q[x][y])\n",
        "\n",
        "        action = actions[action_index]\n",
        "        next_x, next_y = move_agent(action, x, y)\n",
        "\n",
        "        reward = 1 if (next_x, next_y) == goal_state else 0\n",
        "        max_future_q = np.max(Q[next_x][next_y])\n",
        "        current_q = Q[x][y][action_index]\n",
        "\n",
        "        # Q-learning update\n",
        "        Q[x][y][action_index] = current_q + alpha * (reward + gamma * max_future_q - current_q)\n",
        "\n",
        "        # Move to next state\n",
        "        x, y = next_x, next_y\n"
      ],
      "metadata": {
        "id": "-5ht0E_urjqm"
      },
      "execution_count": 12,
      "outputs": []
    },
    {
      "cell_type": "markdown",
      "source": [
        "this implements the episilon greedy method to determine the ideal path for the agent"
      ],
      "metadata": {
        "id": "6mEpQxPIeVuM"
      }
    },
    {
      "cell_type": "code",
      "source": [
        "grid_size = 5\n",
        "actions = ['up', 'down', 'left', 'right']\n",
        "action_map = {0: '↑', 1: '↓', 2: '←', 3: '→'}\n",
        "goal_state = (4, 4)\n",
        "policy_grid = np.full((grid_size, grid_size), ' ', dtype=str)\n",
        "for x in range(grid_size):\n",
        "    for y in range(grid_size):\n",
        "        if (x, y) == goal_state:\n",
        "            policy_grid[x, y] = '🎯'\n",
        "        else:\n",
        "            best_action = np.argmax(Q[x, y])\n",
        "            policy_grid[x, y] = action_map[best_action]"
      ],
      "metadata": {
        "id": "zwsYzX6ssa1c"
      },
      "execution_count": 13,
      "outputs": []
    },
    {
      "cell_type": "markdown",
      "source": [
        "creates the grid to represent the agents movement"
      ],
      "metadata": {
        "id": "49fxdSLaee_W"
      }
    },
    {
      "cell_type": "code",
      "source": [
        "# Display policy as DataFrame\n",
        "pd.DataFrame(policy_grid)"
      ],
      "metadata": {
        "colab": {
          "base_uri": "https://localhost:8080/",
          "height": 206
        },
        "id": "Q0xjL1yBsg-B",
        "outputId": "3164be18-f9e2-45de-a4b9-ce110b5be9ef"
      },
      "execution_count": 14,
      "outputs": [
        {
          "output_type": "execute_result",
          "data": {
            "text/plain": [
              "   0  1  2  3  4\n",
              "0  ↑  ↑  ↑  ↑  →\n",
              "1  ↑  ↑  ↑  ↑  →\n",
              "2  ↑  →  ↑  ↑  →\n",
              "3  →  ↑  ↑  ↑  →\n",
              "4  ↑  ↑  ↑  ↑  🎯"
            ],
            "text/html": [
              "\n",
              "  <div id=\"df-d7bcfddd-3ea1-4bcc-af08-7c3b3b5dc36a\" class=\"colab-df-container\">\n",
              "    <div>\n",
              "<style scoped>\n",
              "    .dataframe tbody tr th:only-of-type {\n",
              "        vertical-align: middle;\n",
              "    }\n",
              "\n",
              "    .dataframe tbody tr th {\n",
              "        vertical-align: top;\n",
              "    }\n",
              "\n",
              "    .dataframe thead th {\n",
              "        text-align: right;\n",
              "    }\n",
              "</style>\n",
              "<table border=\"1\" class=\"dataframe\">\n",
              "  <thead>\n",
              "    <tr style=\"text-align: right;\">\n",
              "      <th></th>\n",
              "      <th>0</th>\n",
              "      <th>1</th>\n",
              "      <th>2</th>\n",
              "      <th>3</th>\n",
              "      <th>4</th>\n",
              "    </tr>\n",
              "  </thead>\n",
              "  <tbody>\n",
              "    <tr>\n",
              "      <th>0</th>\n",
              "      <td>↑</td>\n",
              "      <td>↑</td>\n",
              "      <td>↑</td>\n",
              "      <td>↑</td>\n",
              "      <td>→</td>\n",
              "    </tr>\n",
              "    <tr>\n",
              "      <th>1</th>\n",
              "      <td>↑</td>\n",
              "      <td>↑</td>\n",
              "      <td>↑</td>\n",
              "      <td>↑</td>\n",
              "      <td>→</td>\n",
              "    </tr>\n",
              "    <tr>\n",
              "      <th>2</th>\n",
              "      <td>↑</td>\n",
              "      <td>→</td>\n",
              "      <td>↑</td>\n",
              "      <td>↑</td>\n",
              "      <td>→</td>\n",
              "    </tr>\n",
              "    <tr>\n",
              "      <th>3</th>\n",
              "      <td>→</td>\n",
              "      <td>↑</td>\n",
              "      <td>↑</td>\n",
              "      <td>↑</td>\n",
              "      <td>→</td>\n",
              "    </tr>\n",
              "    <tr>\n",
              "      <th>4</th>\n",
              "      <td>↑</td>\n",
              "      <td>↑</td>\n",
              "      <td>↑</td>\n",
              "      <td>↑</td>\n",
              "      <td>🎯</td>\n",
              "    </tr>\n",
              "  </tbody>\n",
              "</table>\n",
              "</div>\n",
              "    <div class=\"colab-df-buttons\">\n",
              "\n",
              "  <div class=\"colab-df-container\">\n",
              "    <button class=\"colab-df-convert\" onclick=\"convertToInteractive('df-d7bcfddd-3ea1-4bcc-af08-7c3b3b5dc36a')\"\n",
              "            title=\"Convert this dataframe to an interactive table.\"\n",
              "            style=\"display:none;\">\n",
              "\n",
              "  <svg xmlns=\"http://www.w3.org/2000/svg\" height=\"24px\" viewBox=\"0 -960 960 960\">\n",
              "    <path d=\"M120-120v-720h720v720H120Zm60-500h600v-160H180v160Zm220 220h160v-160H400v160Zm0 220h160v-160H400v160ZM180-400h160v-160H180v160Zm440 0h160v-160H620v160ZM180-180h160v-160H180v160Zm440 0h160v-160H620v160Z\"/>\n",
              "  </svg>\n",
              "    </button>\n",
              "\n",
              "  <style>\n",
              "    .colab-df-container {\n",
              "      display:flex;\n",
              "      gap: 12px;\n",
              "    }\n",
              "\n",
              "    .colab-df-convert {\n",
              "      background-color: #E8F0FE;\n",
              "      border: none;\n",
              "      border-radius: 50%;\n",
              "      cursor: pointer;\n",
              "      display: none;\n",
              "      fill: #1967D2;\n",
              "      height: 32px;\n",
              "      padding: 0 0 0 0;\n",
              "      width: 32px;\n",
              "    }\n",
              "\n",
              "    .colab-df-convert:hover {\n",
              "      background-color: #E2EBFA;\n",
              "      box-shadow: 0px 1px 2px rgba(60, 64, 67, 0.3), 0px 1px 3px 1px rgba(60, 64, 67, 0.15);\n",
              "      fill: #174EA6;\n",
              "    }\n",
              "\n",
              "    .colab-df-buttons div {\n",
              "      margin-bottom: 4px;\n",
              "    }\n",
              "\n",
              "    [theme=dark] .colab-df-convert {\n",
              "      background-color: #3B4455;\n",
              "      fill: #D2E3FC;\n",
              "    }\n",
              "\n",
              "    [theme=dark] .colab-df-convert:hover {\n",
              "      background-color: #434B5C;\n",
              "      box-shadow: 0px 1px 3px 1px rgba(0, 0, 0, 0.15);\n",
              "      filter: drop-shadow(0px 1px 2px rgba(0, 0, 0, 0.3));\n",
              "      fill: #FFFFFF;\n",
              "    }\n",
              "  </style>\n",
              "\n",
              "    <script>\n",
              "      const buttonEl =\n",
              "        document.querySelector('#df-d7bcfddd-3ea1-4bcc-af08-7c3b3b5dc36a button.colab-df-convert');\n",
              "      buttonEl.style.display =\n",
              "        google.colab.kernel.accessAllowed ? 'block' : 'none';\n",
              "\n",
              "      async function convertToInteractive(key) {\n",
              "        const element = document.querySelector('#df-d7bcfddd-3ea1-4bcc-af08-7c3b3b5dc36a');\n",
              "        const dataTable =\n",
              "          await google.colab.kernel.invokeFunction('convertToInteractive',\n",
              "                                                    [key], {});\n",
              "        if (!dataTable) return;\n",
              "\n",
              "        const docLinkHtml = 'Like what you see? Visit the ' +\n",
              "          '<a target=\"_blank\" href=https://colab.research.google.com/notebooks/data_table.ipynb>data table notebook</a>'\n",
              "          + ' to learn more about interactive tables.';\n",
              "        element.innerHTML = '';\n",
              "        dataTable['output_type'] = 'display_data';\n",
              "        await google.colab.output.renderOutput(dataTable, element);\n",
              "        const docLink = document.createElement('div');\n",
              "        docLink.innerHTML = docLinkHtml;\n",
              "        element.appendChild(docLink);\n",
              "      }\n",
              "    </script>\n",
              "  </div>\n",
              "\n",
              "\n",
              "    <div id=\"df-56934d98-f443-45b3-a1d3-862bfe164645\">\n",
              "      <button class=\"colab-df-quickchart\" onclick=\"quickchart('df-56934d98-f443-45b3-a1d3-862bfe164645')\"\n",
              "                title=\"Suggest charts\"\n",
              "                style=\"display:none;\">\n",
              "\n",
              "<svg xmlns=\"http://www.w3.org/2000/svg\" height=\"24px\"viewBox=\"0 0 24 24\"\n",
              "     width=\"24px\">\n",
              "    <g>\n",
              "        <path d=\"M19 3H5c-1.1 0-2 .9-2 2v14c0 1.1.9 2 2 2h14c1.1 0 2-.9 2-2V5c0-1.1-.9-2-2-2zM9 17H7v-7h2v7zm4 0h-2V7h2v10zm4 0h-2v-4h2v4z\"/>\n",
              "    </g>\n",
              "</svg>\n",
              "      </button>\n",
              "\n",
              "<style>\n",
              "  .colab-df-quickchart {\n",
              "      --bg-color: #E8F0FE;\n",
              "      --fill-color: #1967D2;\n",
              "      --hover-bg-color: #E2EBFA;\n",
              "      --hover-fill-color: #174EA6;\n",
              "      --disabled-fill-color: #AAA;\n",
              "      --disabled-bg-color: #DDD;\n",
              "  }\n",
              "\n",
              "  [theme=dark] .colab-df-quickchart {\n",
              "      --bg-color: #3B4455;\n",
              "      --fill-color: #D2E3FC;\n",
              "      --hover-bg-color: #434B5C;\n",
              "      --hover-fill-color: #FFFFFF;\n",
              "      --disabled-bg-color: #3B4455;\n",
              "      --disabled-fill-color: #666;\n",
              "  }\n",
              "\n",
              "  .colab-df-quickchart {\n",
              "    background-color: var(--bg-color);\n",
              "    border: none;\n",
              "    border-radius: 50%;\n",
              "    cursor: pointer;\n",
              "    display: none;\n",
              "    fill: var(--fill-color);\n",
              "    height: 32px;\n",
              "    padding: 0;\n",
              "    width: 32px;\n",
              "  }\n",
              "\n",
              "  .colab-df-quickchart:hover {\n",
              "    background-color: var(--hover-bg-color);\n",
              "    box-shadow: 0 1px 2px rgba(60, 64, 67, 0.3), 0 1px 3px 1px rgba(60, 64, 67, 0.15);\n",
              "    fill: var(--button-hover-fill-color);\n",
              "  }\n",
              "\n",
              "  .colab-df-quickchart-complete:disabled,\n",
              "  .colab-df-quickchart-complete:disabled:hover {\n",
              "    background-color: var(--disabled-bg-color);\n",
              "    fill: var(--disabled-fill-color);\n",
              "    box-shadow: none;\n",
              "  }\n",
              "\n",
              "  .colab-df-spinner {\n",
              "    border: 2px solid var(--fill-color);\n",
              "    border-color: transparent;\n",
              "    border-bottom-color: var(--fill-color);\n",
              "    animation:\n",
              "      spin 1s steps(1) infinite;\n",
              "  }\n",
              "\n",
              "  @keyframes spin {\n",
              "    0% {\n",
              "      border-color: transparent;\n",
              "      border-bottom-color: var(--fill-color);\n",
              "      border-left-color: var(--fill-color);\n",
              "    }\n",
              "    20% {\n",
              "      border-color: transparent;\n",
              "      border-left-color: var(--fill-color);\n",
              "      border-top-color: var(--fill-color);\n",
              "    }\n",
              "    30% {\n",
              "      border-color: transparent;\n",
              "      border-left-color: var(--fill-color);\n",
              "      border-top-color: var(--fill-color);\n",
              "      border-right-color: var(--fill-color);\n",
              "    }\n",
              "    40% {\n",
              "      border-color: transparent;\n",
              "      border-right-color: var(--fill-color);\n",
              "      border-top-color: var(--fill-color);\n",
              "    }\n",
              "    60% {\n",
              "      border-color: transparent;\n",
              "      border-right-color: var(--fill-color);\n",
              "    }\n",
              "    80% {\n",
              "      border-color: transparent;\n",
              "      border-right-color: var(--fill-color);\n",
              "      border-bottom-color: var(--fill-color);\n",
              "    }\n",
              "    90% {\n",
              "      border-color: transparent;\n",
              "      border-bottom-color: var(--fill-color);\n",
              "    }\n",
              "  }\n",
              "</style>\n",
              "\n",
              "      <script>\n",
              "        async function quickchart(key) {\n",
              "          const quickchartButtonEl =\n",
              "            document.querySelector('#' + key + ' button');\n",
              "          quickchartButtonEl.disabled = true;  // To prevent multiple clicks.\n",
              "          quickchartButtonEl.classList.add('colab-df-spinner');\n",
              "          try {\n",
              "            const charts = await google.colab.kernel.invokeFunction(\n",
              "                'suggestCharts', [key], {});\n",
              "          } catch (error) {\n",
              "            console.error('Error during call to suggestCharts:', error);\n",
              "          }\n",
              "          quickchartButtonEl.classList.remove('colab-df-spinner');\n",
              "          quickchartButtonEl.classList.add('colab-df-quickchart-complete');\n",
              "        }\n",
              "        (() => {\n",
              "          let quickchartButtonEl =\n",
              "            document.querySelector('#df-56934d98-f443-45b3-a1d3-862bfe164645 button');\n",
              "          quickchartButtonEl.style.display =\n",
              "            google.colab.kernel.accessAllowed ? 'block' : 'none';\n",
              "        })();\n",
              "      </script>\n",
              "    </div>\n",
              "\n",
              "    </div>\n",
              "  </div>\n"
            ],
            "application/vnd.google.colaboratory.intrinsic+json": {
              "type": "dataframe",
              "summary": "{\n  \"name\": \"pd\",\n  \"rows\": 5,\n  \"fields\": [\n    {\n      \"column\": 0,\n      \"properties\": {\n        \"dtype\": \"category\",\n        \"num_unique_values\": 2,\n        \"samples\": [\n          \"\\u2192\",\n          \"\\u2191\"\n        ],\n        \"semantic_type\": \"\",\n        \"description\": \"\"\n      }\n    },\n    {\n      \"column\": 1,\n      \"properties\": {\n        \"dtype\": \"category\",\n        \"num_unique_values\": 2,\n        \"samples\": [\n          \"\\u2192\",\n          \"\\u2191\"\n        ],\n        \"semantic_type\": \"\",\n        \"description\": \"\"\n      }\n    },\n    {\n      \"column\": 2,\n      \"properties\": {\n        \"dtype\": \"category\",\n        \"num_unique_values\": 1,\n        \"samples\": [\n          \"\\u2191\"\n        ],\n        \"semantic_type\": \"\",\n        \"description\": \"\"\n      }\n    },\n    {\n      \"column\": 3,\n      \"properties\": {\n        \"dtype\": \"category\",\n        \"num_unique_values\": 1,\n        \"samples\": [\n          \"\\u2191\"\n        ],\n        \"semantic_type\": \"\",\n        \"description\": \"\"\n      }\n    },\n    {\n      \"column\": 4,\n      \"properties\": {\n        \"dtype\": \"category\",\n        \"num_unique_values\": 2,\n        \"samples\": [\n          \"\\ud83c\\udfaf\"\n        ],\n        \"semantic_type\": \"\",\n        \"description\": \"\"\n      }\n    }\n  ]\n}"
            }
          },
          "metadata": {},
          "execution_count": 14
        }
      ]
    },
    {
      "cell_type": "markdown",
      "source": [
        "prints out the policy grid"
      ],
      "metadata": {
        "id": "zjXnnH3Bejkm"
      }
    },
    {
      "cell_type": "code",
      "source": [
        "# Plot policy grid\n",
        "fig, ax = plt.subplots(figsize=(6, 6))\n",
        "ax.set_xlim(-0.5, grid_size - 0.5)\n",
        "ax.set_ylim(-0.5, grid_size - 0.5)\n",
        "ax.set_xticks(np.arange(-0.5, grid_size, 1))\n",
        "ax.set_yticks(np.arange(-0.5, grid_size, 1))\n",
        "ax.set_xticklabels([])\n",
        "ax.set_yticklabels([])\n",
        "ax.grid(True)\n",
        "\n",
        "for x in range(grid_size):\n",
        "    for y in range(grid_size):\n",
        "        symbol = policy_grid[x, y]\n",
        "        ax.text(y, grid_size - 1 - x, symbol, ha='center', va='center', fontsize=16)\n",
        "\n",
        "ax.set_title(\"Learned Optimal Policy (Q-Learning)\")\n",
        "plt.show()"
      ],
      "metadata": {
        "id": "grDGgxqNspPH",
        "outputId": "3b897a6b-7871-4661-8b49-01050392da3b",
        "colab": {
          "base_uri": "https://localhost:8080/",
          "height": 561
        }
      },
      "execution_count": 15,
      "outputs": [
        {
          "output_type": "stream",
          "name": "stderr",
          "text": [
            "/usr/local/lib/python3.11/dist-packages/IPython/core/pylabtools.py:151: UserWarning: Glyph 127919 (\\N{DIRECT HIT}) missing from font(s) DejaVu Sans.\n",
            "  fig.canvas.print_figure(bytes_io, **kw)\n"
          ]
        },
        {
          "output_type": "display_data",
          "data": {
            "text/plain": [
              "<Figure size 600x600 with 1 Axes>"
            ],
            "image/png": "[encoded data removed]"
          },
          "metadata": {}
        }
      ]
    },
    {
      "cell_type": "markdown",
      "source": [
        "creates a graphical representation of the agents movement"
      ],
      "metadata": {
        "id": "gouWCkEWevtM"
      }
    },
    {
      "cell_type": "code",
      "source": [],
      "metadata": {
        "id": "UI_MGRybZHV0"
      },
      "execution_count": 15,
      "outputs": []
    },
    {
      "cell_type": "code",
      "source": [],
      "metadata": {
        "id": "dm_dzsNsam4P"
      },
      "execution_count": 15,
      "outputs": []
    }
  ]
}